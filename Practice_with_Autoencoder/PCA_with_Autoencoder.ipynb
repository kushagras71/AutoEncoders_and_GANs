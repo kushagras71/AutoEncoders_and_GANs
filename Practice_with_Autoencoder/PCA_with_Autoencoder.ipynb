{
 "cells": [
  {
   "cell_type": "markdown",
   "metadata": {},
   "source": [
    "## PCA with a linear Autoencoder"
   ]
  },
  {
   "cell_type": "code",
   "execution_count": 2,
   "metadata": {},
   "outputs": [],
   "source": [
    "import tensorflow as tf\n",
    "from tensorflow import keras\n",
    "import numpy as np\n",
    "import os\n",
    "import matplotlib as mpl\n",
    "import matplotlib.pyplot as plt"
   ]
  },
  {
   "cell_type": "code",
   "execution_count": 4,
   "metadata": {},
   "outputs": [],
   "source": [
    "np.random.seed(4)\n",
    "\n",
    "def generate_3d_data(m, w1=0.1, w2=0.3, noise=0.1):\n",
    "    angles = np.random.rand(m) * 3 * np.pi / 2 - 0.5\n",
    "    data = np.empty((m,3))\n",
    "    data[:,0] = np.cos(angles) + np.sin(angles)/2 + noise * np.random.randn(m) / 2\n",
    "    data[:,1] = np.sin(angles) * 0.7 + noise * np.random.randn(m) / 2\n",
    "    data[:,2] = data[:,0] * w1 + data[:,1] * w2 + noise * np.random.randn(m)\n",
    "    return data\n",
    "\n",
    "X_train = generate_3d_data(60)\n",
    "X_train = X_train - X_train.mean(axis=0,keepdims=0)"
   ]
  },
  {
   "cell_type": "code",
   "execution_count": 7,
   "metadata": {},
   "outputs": [],
   "source": [
    "np.random.seed(42)\n",
    "tf.random.set_seed(42)\n",
    "\n",
    "encoder = keras.models.Sequential([keras.layers.Dense(2, input_shape=[3])])\n",
    "decoder = keras.models.Sequential([keras.layers.Dense(3, input_shape=[2])])\n",
    "autoencoder = keras.models.Sequential([encoder,decoder])\n",
    "\n",
    "autoencoder.compile(loss=\"mse\",optimizer=keras.optimizers.SGD(lr=0.5))"
   ]
  },
  {
   "cell_type": "code",
   "execution_count": 8,
   "metadata": {},
   "outputs": [
    {
     "name": "stdout",
     "output_type": "stream",
     "text": [
      "Train on 60 samples\n",
      "Epoch 1/20\n",
      "60/60 [==============================] - 3s 50ms/sample - loss: 0.2982\n",
      "Epoch 2/20\n",
      "60/60 [==============================] - 0s 200us/sample - loss: 0.2147\n",
      "Epoch 3/20\n",
      "60/60 [==============================] - 0s 133us/sample - loss: 0.1521\n",
      "Epoch 4/20\n",
      "60/60 [==============================] - 0s 150us/sample - loss: 0.1063\n",
      "Epoch 5/20\n",
      "60/60 [==============================] - 0s 116us/sample - loss: 0.0788\n",
      "Epoch 6/20\n",
      "60/60 [==============================] - 0s 133us/sample - loss: 0.0634\n",
      "Epoch 7/20\n",
      "60/60 [==============================] - 0s 133us/sample - loss: 0.0551\n",
      "Epoch 8/20\n",
      "60/60 [==============================] - 0s 133us/sample - loss: 0.0488\n",
      "Epoch 9/20\n",
      "60/60 [==============================] - 0s 133us/sample - loss: 0.0425\n",
      "Epoch 10/20\n",
      "60/60 [==============================] - 0s 133us/sample - loss: 0.0392\n",
      "Epoch 11/20\n",
      "60/60 [==============================] - 0s 133us/sample - loss: 0.0363\n",
      "Epoch 12/20\n",
      "60/60 [==============================] - 0s 134us/sample - loss: 0.0343\n",
      "Epoch 13/20\n",
      "60/60 [==============================] - 0s 149us/sample - loss: 0.0322\n",
      "Epoch 14/20\n",
      "60/60 [==============================] - 0s 132us/sample - loss: 0.0302\n",
      "Epoch 15/20\n",
      "60/60 [==============================] - 0s 150us/sample - loss: 0.0286\n",
      "Epoch 16/20\n",
      "60/60 [==============================] - 0s 116us/sample - loss: 0.0268\n",
      "Epoch 17/20\n",
      "60/60 [==============================] - 0s 133us/sample - loss: 0.0253\n",
      "Epoch 18/20\n",
      "60/60 [==============================] - 0s 116us/sample - loss: 0.0240\n",
      "Epoch 19/20\n",
      "60/60 [==============================] - 0s 133us/sample - loss: 0.0230\n",
      "Epoch 20/20\n",
      "60/60 [==============================] - 0s 100us/sample - loss: 0.0216\n"
     ]
    }
   ],
   "source": [
    "history = autoencoder.fit(X_train,X_train,epochs=20)"
   ]
  },
  {
   "cell_type": "code",
   "execution_count": 9,
   "metadata": {},
   "outputs": [],
   "source": [
    "codings = encoder.predict(X_train)"
   ]
  },
  {
   "cell_type": "code",
   "execution_count": null,
   "metadata": {},
   "outputs": [],
   "source": [
    "fig = plt.figure(figsize=(4,3))\n",
    "plt.plot(codings[:,0], codings[:, 1], \"b.\")\n",
    "plt.xlabel(\"$z_1$\", fontsize=18)\n",
    "plt.ylabel(\"$z_2$\", fontsize=18, rotation=0)\n",
    "plt.grid(True)\n"
   ]
  }
 ],
 "metadata": {
  "kernelspec": {
   "display_name": "deep_learning",
   "language": "python",
   "name": "deep_learning"
  },
  "language_info": {
   "codemirror_mode": {
    "name": "ipython",
    "version": 3
   },
   "file_extension": ".py",
   "mimetype": "text/x-python",
   "name": "python",
   "nbconvert_exporter": "python",
   "pygments_lexer": "ipython3",
   "version": "3.7.7"
  }
 },
 "nbformat": 4,
 "nbformat_minor": 4
}
